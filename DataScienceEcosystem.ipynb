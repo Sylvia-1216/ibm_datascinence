{
 "cells": [
  {
   "cell_type": "markdown",
   "id": "5448685e-873c-4fa6-a081-8dc7cdf9c637",
   "metadata": {},
   "source": [
    "# Data Science Tools and Ecosystem"
   ]
  },
  {
   "cell_type": "markdown",
   "id": "56a48a05-e3d5-4b48-b1e5-214b3639e9a2",
   "metadata": {},
   "source": [
    "In this notebook, Data Science Tools and Ecosystem are summarized."
   ]
  },
  {
   "cell_type": "markdown",
   "id": "a032409c-6dd6-4d6d-9fa7-763070d15d5a",
   "metadata": {},
   "source": [
    "**Objectives:**\n",
    "+ List popular languages for Data Science\n",
    "+ List popular tools for Data Science\n",
    "+ List popular libraries for Data Science"
   ]
  },
  {
   "cell_type": "markdown",
   "id": "c75af578-ee3e-4b15-bb7f-7a7e8da8fa55",
   "metadata": {},
   "source": [
    "### Some of the popular languages that Data Scientists use are:"
   ]
  },
  {
   "cell_type": "markdown",
   "id": "c1253789-6b9e-459c-b0ff-763ca649cd7f",
   "metadata": {},
   "source": [
    "1. Python\n",
    "2. R\n",
    "3. Scala"
   ]
  },
  {
   "attachments": {},
   "cell_type": "markdown",
   "id": "7f632d2b-8b37-4ff9-b797-e2f896c98294",
   "metadata": {},
   "source": [
    "### Some of the commonly used libraries used by Data Scientists include:"
   ]
  },
  {
   "cell_type": "markdown",
   "id": "585cfa30-69b0-487d-908e-364e32a1142e",
   "metadata": {},
   "source": [
    "1. ggplot\n",
    "2. caret \n",
    "3. dpylr"
   ]
  },
  {
   "cell_type": "markdown",
   "id": "2a3669d9-64ee-42ee-94f6-847ffe62f15f",
   "metadata": {},
   "source": [
    "| Data Science Tools|\n",
    "----------------------\n",
    "|Python|\n",
    "|Github|\n",
    "|TensorFlow|"
   ]
  },
  {
   "cell_type": "markdown",
   "id": "1aba26b0-8e59-484d-b511-f5bbb130481f",
   "metadata": {},
   "source": [
    "### Below are a few examples of evaluating arithmetic expressions in Python"
   ]
  },
  {
   "cell_type": "code",
   "execution_count": 4,
   "id": "36902b5b-bdcd-4905-8ffb-ef80bb6e585b",
   "metadata": {},
   "outputs": [
    {
     "data": {
      "text/plain": [
       "17"
      ]
     },
     "execution_count": 4,
     "metadata": {},
     "output_type": "execute_result"
    }
   ],
   "source": [
    "# This a simple arithmetic expression to mutiply then add integers\n",
    "(3*4)+5"
   ]
  },
  {
   "cell_type": "code",
   "execution_count": 5,
   "id": "bc33370a-cffe-4f9d-8d6f-f86b8e40a431",
   "metadata": {},
   "outputs": [
    {
     "data": {
      "text/plain": [
       "3.3333333333333335"
      ]
     },
     "execution_count": 5,
     "metadata": {},
     "output_type": "execute_result"
    }
   ],
   "source": [
    "#This will convert 200 minutes to hours by diving by 60.\n",
    "200/60"
   ]
  },
  {
   "cell_type": "markdown",
   "id": "00eed19c-3b8f-474d-99a9-3d6b2b07dc86",
   "metadata": {},
   "source": [
    "## Author\n",
    "D.Sylvia Niveditha"
   ]
  },
  {
   "cell_type": "code",
   "execution_count": null,
   "id": "f477de28-831a-493c-94f7-935e71076c76",
   "metadata": {},
   "outputs": [],
   "source": []
  }
 ],
 "metadata": {
  "kernelspec": {
   "display_name": "Python [conda env:base] *",
   "language": "python",
   "name": "conda-base-py"
  },
  "language_info": {
   "codemirror_mode": {
    "name": "ipython",
    "version": 3
   },
   "file_extension": ".py",
   "mimetype": "text/x-python",
   "name": "python",
   "nbconvert_exporter": "python",
   "pygments_lexer": "ipython3",
   "version": "3.12.4"
  }
 },
 "nbformat": 4,
 "nbformat_minor": 5
}
